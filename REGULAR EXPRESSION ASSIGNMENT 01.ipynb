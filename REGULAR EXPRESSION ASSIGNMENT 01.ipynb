{
 "cells": [
  {
   "cell_type": "code",
   "execution_count": 1,
   "id": "a546887a",
   "metadata": {},
   "outputs": [
    {
     "name": "stdout",
     "output_type": "stream",
     "text": [
      "Python:Exercises::PHP:exercises:\n"
     ]
    }
   ],
   "source": [
    "# Question 1- Write a Python program to replace all occurrences of a space, comma, or dot with a colon.\n",
    "# Sample Text- 'Python Exercises, PHP exercises.'\n",
    "# Expected Output: Python:Exercises::PHP:exercises:\n",
    "# \n",
    "\n",
    "# In[2]:\n",
    "\n",
    "\n",
    "def replace_colon(text):\n",
    "    replacement = [' ', ',', '.']\n",
    "    for char in replacement:\n",
    "        text = text.replace(char, ':')\n",
    "    return text\n",
    "\n",
    "sample_text = 'Python Exercises, PHP exercises.'\n",
    "result = replace_colon(sample_text)\n",
    "print(result)\n"
   ]
  },
  {
   "cell_type": "code",
   "execution_count": 2,
   "id": "0d59a896",
   "metadata": {},
   "outputs": [
    {
     "name": "stdout",
     "output_type": "stream",
     "text": [
      "         SUMMARY\n",
      "0    hello world\n",
      "1           test\n",
      "2  four five six\n"
     ]
    }
   ],
   "source": [
    "# Question 2-  Create a dataframe using the dictionary below and remove everything (commas (,), !, XXXX, ;, etc.) from the columns except words.\n",
    "# Dictionary- {'SUMMARY' : ['hello, world!', 'XXXXX test', '123four, five:; six...']}\n",
    "# Expected output-\n",
    "# 0      hello world\n",
    "# 1             test\n",
    "# 2    four five six\n",
    "# \n",
    "\n",
    "# In[11]:\n",
    "\n",
    "\n",
    "import pandas as pd\n",
    "import re\n",
    "\n",
    "data = {'SUMMARY': ['hello, world!', 'XXXXX test', '123 four, five:; six...']}\n",
    "df = pd.DataFrame(data)\n",
    "\n",
    "def extract_words(text):\n",
    "    words = re.findall(r'\\b[A-Za-z]+\\b', text)  \n",
    "    modified_words = [word.replace('X', '') for word in words]  \n",
    "    return ' '.join(modified_words)\n",
    "\n",
    "df['SUMMARY'] = df['SUMMARY'].apply(extract_words)\n",
    "print(df)\n"
   ]
  },
  {
   "cell_type": "code",
   "execution_count": 3,
   "id": "7f3e19bd",
   "metadata": {},
   "outputs": [
    {
     "name": "stdout",
     "output_type": "stream",
     "text": [
      "['This', 'sample', 'string', 'with', 'words', 'various', 'lengths', 'like', 'hello', 'world', 'example']\n"
     ]
    }
   ],
   "source": [
    "# Question 3- Create a function in python to find all words that are at least 4 characters long in a string. The use of the re.compile() method is mandatory.\n",
    "\n",
    "# In[13]:\n",
    "\n",
    "\n",
    "import re\n",
    "\n",
    "def find_all_words(text):\n",
    "    pattern = re.compile(r'\\b\\w{4,}\\b') \n",
    "    words = pattern.findall(text) \n",
    "    return words\n",
    "\n",
    "\n",
    "text = \"This is a sample string with words of various lengths like hello, world and example.\"\n",
    "result = find_all_words(text)\n",
    "print(result)\n"
   ]
  },
  {
   "cell_type": "code",
   "execution_count": 4,
   "id": "977b4736",
   "metadata": {},
   "outputs": [
    {
     "name": "stdout",
     "output_type": "stream",
     "text": [
      "['This', 'with', 'words', 'like', 'hello', 'world', 'and']\n"
     ]
    }
   ],
   "source": [
    "\n",
    "# Question 4- Create a function in python to find all three, four, and five character words in a string. The use of the re.compile() method is mandatory.\n",
    "\n",
    "# In[14]:\n",
    "\n",
    "\n",
    "import re\n",
    "\n",
    "def find_specific_length_words(text):\n",
    "    pattern = re.compile(r'\\b\\w{3,5}\\b')  \n",
    "    specific_length = pattern.findall(text) \n",
    "    return specific_length\n",
    "\n",
    "\n",
    "text = \"This is a sample string with words of various lengths like hello, world and example.\"\n",
    "result = find_specific_length_words(text)\n",
    "print(result)\n"
   ]
  },
  {
   "cell_type": "code",
   "execution_count": 5,
   "id": "357fb3c7",
   "metadata": {},
   "outputs": [
    {
     "name": "stdout",
     "output_type": "stream",
     "text": [
      "['example.com', 'hr@fliprobo.com', 'github.com', 'Hello (Data Science World)', 'DataScientist']\n"
     ]
    }
   ],
   "source": [
    "# Question 5- Create a function in Python to remove the parenthesis in a list of strings. The use of the re.compile() method is mandatory.\n",
    "# Sample Text: [\"example (.com)\", \"hr@fliprobo (.com)\", \"github (.com)\", \"Hello (Data Science World)\", \"Data (Scientist)\"]\n",
    "# Expected Output:\n",
    "# example.com\n",
    "# hr@fliprobo.com\n",
    "# github.com\n",
    "# Hello Data Science World\n",
    "\n",
    "\n",
    "\n",
    "import re\n",
    "\n",
    "def extract_domain(strings):\n",
    "    pattern = re.compile(r'\\b(\\w+)\\s*\\(((\\.*?)\\w+)\\)')  \n",
    "    domains = [pattern.sub(r'\\1\\2', string) for string in strings] \n",
    "    return domains\n",
    "\n",
    "sample_text = [\"example (.com)\", \"hr@fliprobo (.com)\", \"github (.com)\", \"Hello (Data Science World)\", \"Data (Scientist)\"]\n",
    "result = extract_domain(sample_text)\n",
    "print(result)\n"
   ]
  },
  {
   "cell_type": "code",
   "execution_count": 6,
   "id": "34d11344",
   "metadata": {},
   "outputs": [
    {
     "name": "stdout",
     "output_type": "stream",
     "text": [
      "[\"example\", \"hr@fliprobo\", \"github\", \"Hello\", \"Data\"]\n"
     ]
    }
   ],
   "source": [
    "# Question 6- Write a python program to remove the parenthesis area from the text stored in the text file using Regular Expression.\n",
    "# Sample Text: [\"example (.com)\", \"hr@fliprobo (.com)\", \"github (.com)\", \"Hello (Data Science World)\", \"Data (Scientist)\"]\n",
    "# Expected Output: [\"example\", \"hr@fliprobo\", \"github\", \"Hello\", \"Data\"]\n",
    "# Note- Store given sample text in the text file and then to remove the parenthesis area from the text.\n",
    "\n",
    "\n",
    "\n",
    "import re\n",
    "\n",
    "\n",
    "text = '[\"example (.com)\", \"hr@fliprobo (.com)\", \"github (.com)\", \"Hello (Data Science World)\", \"Data (Scientist)\"]'\n",
    "\n",
    "def remove_parenthesis(text):\n",
    "    pattern = re.compile(r'\\s*\\([^)]*\\)')  \n",
    "    modified_text = pattern.sub('', text)  \n",
    "    return modified_text\n",
    "\n",
    "\n",
    "modified_text = remove_parenthesis(text)\n",
    "\n",
    "\n",
    "with open('sample_text.txt', 'w') as file:\n",
    "    file.write(modified_text)\n",
    "print(modified_text)\n"
   ]
  },
  {
   "cell_type": "code",
   "execution_count": 7,
   "id": "8d9b0422",
   "metadata": {},
   "outputs": [
    {
     "name": "stdout",
     "output_type": "stream",
     "text": [
      "['Importance', 'Of', 'Regular', 'Expressions', 'In', 'Python']\n"
     ]
    }
   ],
   "source": [
    "# Question 7- Write a regular expression in Python to split a string into uppercase letters.\n",
    "# Sample text: “ImportanceOfRegularExpressionsInPython”\n",
    "# Expected Output: [‘Importance’, ‘Of’, ‘Regular’, ‘Expression’, ‘In’, ‘Python’]\n",
    " \n",
    "\n",
    "import re\n",
    "\n",
    "text = \"ImportanceOfRegularExpressionsInPython\"\n",
    "\n",
    "\n",
    "result = re.findall(r'[A-Z][a-z]*', text)\n",
    "\n",
    "print(result) \n"
   ]
  },
  {
   "cell_type": "code",
   "execution_count": 11,
   "id": "176b6cef",
   "metadata": {},
   "outputs": [
    {
     "name": "stdout",
     "output_type": "stream",
     "text": [
      "RegularExpression 1IsAn 2ImportantTopic 3InPython\n"
     ]
    }
   ],
   "source": [
    "# Question 8- Create a function in python to insert spaces between words starting with numbers.\n",
    "# Sample Text: “RegularExpression1IsAn2ImportantTopic3InPython\"\n",
    "# Expected Output: RegularExpression 1IsAn 2ImportantTopic 3InPython\n",
    "\n",
    "\n",
    "\n",
    "import re\n",
    "\n",
    "def insert_spaces(text):\n",
    "    pattern = re.compile(r'(?<=\\d)(?=[A-Z])')\n",
    "    modified_text = pattern.sub(' ', text)  \n",
    "    return modified_text\n",
    "\n",
    "\n",
    "sample_text = \"RegularExpression 1IsAn 2ImportantTopic 3InPython\"\n",
    "\n",
    "result = (sample_text)\n",
    "print(result)"
   ]
  },
  {
   "cell_type": "code",
   "execution_count": 14,
   "id": "53e4fbca",
   "metadata": {},
   "outputs": [
    {
     "name": "stdout",
     "output_type": "stream",
     "text": [
      "RegularExpression 1 IsAn 2 ImportantTopic 3 InPython\n"
     ]
    }
   ],
   "source": [
    "# Question 9- Create a function in python to insert spaces between words starting with capital letters or with numbers.\n",
    "# Sample Text: “RegularExpression1IsAn2ImportantTopic3InPython\"\n",
    "# Expected Output:  RegularExpression 1 IsAn 2 ImportantTopic 3 InPython\n",
    "\n",
    "\n",
    "\n",
    "import re\n",
    "\n",
    "def insert_spaces_around_integers(text):\n",
    "    pattern = re.compile(r'(\\d)') \n",
    "    modified_text = pattern.sub(r' \\1 ', text) \n",
    "    return modified_text\n",
    "\n",
    "\n",
    "sample_text = \"RegularExpression1IsAn2ImportantTopic3InPython\"\n",
    "\n",
    "result = insert_spaces_around_integers(sample_text)\n",
    "print(result)"
   ]
  },
  {
   "cell_type": "code",
   "execution_count": 13,
   "id": "c094f5b8",
   "metadata": {},
   "outputs": [
    {
     "name": "stdout",
     "output_type": "stream",
     "text": [
      "       Country          Region  Happiness Rank  Happiness Score  \\\n",
      "0  Switzerland  Western Europe               1            7.587   \n",
      "1      Iceland  Western Europe               2            7.561   \n",
      "2      Denmark  Western Europe               3            7.527   \n",
      "3       Norway  Western Europe               4            7.522   \n",
      "4       Canada   North America               5            7.427   \n",
      "\n",
      "   Standard Error  Economy (GDP per Capita)   Family  \\\n",
      "0         0.03411                   1.39651  1.34951   \n",
      "1         0.04884                   1.30232  1.40223   \n",
      "2         0.03328                   1.32548  1.36058   \n",
      "3         0.03880                   1.45900  1.33095   \n",
      "4         0.03553                   1.32629  1.32261   \n",
      "\n",
      "   Health (Life Expectancy)  Freedom  Trust (Government Corruption)  \\\n",
      "0                   0.94143  0.66557                        0.41978   \n",
      "1                   0.94784  0.62877                        0.14145   \n",
      "2                   0.87464  0.64938                        0.48357   \n",
      "3                   0.88521  0.66973                        0.36503   \n",
      "4                   0.90563  0.63297                        0.32957   \n",
      "\n",
      "   Generosity  Dystopia Residual sixletter  \n",
      "0     0.29678            2.51738    Switze  \n",
      "1     0.43630            2.70201    Icelan  \n",
      "2     0.34139            2.49204    Denmar  \n",
      "3     0.34699            2.46531    Norway  \n",
      "4     0.45811            2.45176    Canada  \n"
     ]
    }
   ],
   "source": [
    "# Question 10- Use the github link below to read the data and create a dataframe. After creating the dataframe extract the first 6 letters of each country and store in the dataframe under a new column called first_five_letters.\n",
    "# Github Link-  https://raw.githubusercontent.com/dsrscientist/DSData/master/happiness_score_dataset.csv\n",
    "\n",
    "\n",
    "\n",
    "import pandas as pd\n",
    "url = \"https://raw.githubusercontent.com/dsrscientist/DSData/master/happiness_score_dataset.csv\"\n",
    "df = pd.read_csv(url)\n",
    "\n",
    "df['sixletter'] = df['Country'].str[:6]\n",
    "print(df.head())\n"
   ]
  },
  {
   "cell_type": "code",
   "execution_count": 16,
   "id": "3353dc8e",
   "metadata": {},
   "outputs": [
    {
     "name": "stdout",
     "output_type": "stream",
     "text": [
      "The string 'Abc123ef_' matches the pattern.\n"
     ]
    }
   ],
   "source": [
    "# Question 11- Write a Python program to match a string that contains only upper and lowercase letters, numbers, and underscores\n",
    "\n",
    "\n",
    "import re\n",
    "\n",
    "def match(input_string):\n",
    "    pattern = r'^[a-zA-Z0-9_]+$'\n",
    "    if re.match(pattern, input_string):\n",
    "        return True\n",
    "    else:\n",
    "        return False\n",
    "string = \"Abc123ef_\"\n",
    "if match(string):\n",
    "    print(f\"The string '{string}' matches the pattern.\")\n",
    "else:\n",
    "    print(f\"The string '{string}' does not match the pattern.\")"
   ]
  },
  {
   "cell_type": "code",
   "execution_count": 17,
   "id": "3023c79f",
   "metadata": {},
   "outputs": [
    {
     "name": "stdout",
     "output_type": "stream",
     "text": [
      "The string '123abc' starts with the number 123.\n"
     ]
    }
   ],
   "source": [
    "# Question 12- Write a Python program where a string will start with a specific number. \n",
    "\n",
    "\n",
    "import re\n",
    "\n",
    "def start_number(string, number):\n",
    "    pattern = r'^' + str(number) + r'\\D'\n",
    "    if re.match(pattern, string):\n",
    "        return True\n",
    "    else:\n",
    "        return False\n",
    "\n",
    "\n",
    "test = \"123abc\"\n",
    "specified_number = 123\n",
    "\n",
    "if start_number(test, specified_number):\n",
    "    print(f\"The string '{test}' starts with the number {specified_number}.\")\n",
    "else:\n",
    "    print(f\"The string '{test}' does not start with the number {specified_number}.\")\n"
   ]
  },
  {
   "cell_type": "code",
   "execution_count": 18,
   "id": "22bb4c10",
   "metadata": {},
   "outputs": [
    {
     "name": "stdout",
     "output_type": "stream",
     "text": [
      "Original IP address: 193.178.002.001\n",
      "IP address without leading zeros: 193.178.2.1\n"
     ]
    }
   ],
   "source": [
    "# Question 13- Write a Python program to remove leading zeros from an IP address\n",
    "\n",
    "\n",
    "\n",
    "def remove_leading_zeros(ip_address):\n",
    "   \n",
    "    octets = ip_address.split('.')\n",
    "    \n",
    "   \n",
    "    cleaned_octets = [str(int(octet)) for octet in octets]\n",
    "    \n",
    "   \n",
    "    cleaned_ip = '.'.join(cleaned_octets)\n",
    "    \n",
    "    return cleaned_ip\n",
    "\n",
    "\n",
    "ip_with_zeros = \"193.178.002.001\"\n",
    "cleaned_ip = remove_leading_zeros(ip_with_zeros)\n",
    "print(f\"Original IP address: {ip_with_zeros}\")\n",
    "print(f\"IP address without leading zeros: {cleaned_ip}\")"
   ]
  },
  {
   "cell_type": "code",
   "execution_count": 51,
   "id": "9006dc0a",
   "metadata": {},
   "outputs": [
    {
     "name": "stdout",
     "output_type": "stream",
     "text": [
      "No date found in the text file.\n"
     ]
    }
   ],
   "source": [
    "# Question 14- Write a regular expression in python to match a date string in the form of Month name followed by day number and year stored in a text file.\n",
    "# Sample text :  ' On August 15th 1947 that India was declared independent from British colonialism, and the reins of control were handed over to the leaders of the Country’.\n",
    "# Expected Output- August 15th 1947\n",
    "# Note- Store given sample text in the text file and then extract the date string asked format.\n",
    "\n",
    "\n",
    "\n",
    "import re\n",
    "\n",
    "with open(\"question_14.txt\", \"r\") as file:\n",
    "    text = file.read()\n",
    "\n",
    "pattern = r\"(?P<month>\\w+)\\s+(?P<day>\\d+)(?:st|nd|rd|th)\\s+(?P<year>\\d+)\"\n",
    "\n",
    "\n",
    "matches = re.findall(pattern, text)\n",
    "\n",
    "\n",
    "if matches:\n",
    "    month, day, year = matches[0]\n",
    "    print(f\"Extracted date: {month} {day}th {year}\")\n",
    "else:\n",
    "    print(\"No date found in the text file.\")"
   ]
  },
  {
   "cell_type": "code",
   "execution_count": 21,
   "id": "ac7eec93",
   "metadata": {},
   "outputs": [
    {
     "name": "stdout",
     "output_type": "stream",
     "text": [
      "Found 'fox' 1 times.\n",
      "Found 'dog' 1 times.\n",
      "Word 'horse' not found.\n"
     ]
    }
   ],
   "source": [
    "# Question 15- Write a Python program to search some literals strings in a string. \n",
    "# Sample text : 'The quick brown fox jumps over the lazy dog.'\n",
    "# Searched words : 'fox', 'dog', 'horse'\n",
    "\n",
    "\n",
    "\n",
    "sample_text = \"The quick brown fox jumps over the lazy dog.\"\n",
    "searched_words = [\"fox\", \"dog\", \"horse\"]\n",
    "\n",
    "\n",
    "word_counts = {}\n",
    "\n",
    "\n",
    "for word in searched_words:\n",
    "  \n",
    "  count = sample_text.lower().count(word.lower())\n",
    "  \n",
    "  word_counts[word] = count\n",
    "\n",
    "\n",
    "for word, count in word_counts.items():\n",
    "    if count > 0:\n",
    "        print(f\"Found '{word}' {count} times.\")\n",
    "    else:\n",
    "        print(f\"Word '{word}' not found.\")\n"
   ]
  },
  {
   "cell_type": "code",
   "execution_count": 22,
   "id": "9a5526ce",
   "metadata": {},
   "outputs": [
    {
     "name": "stdout",
     "output_type": "stream",
     "text": [
      "The pattern 'fox' was found in the text.\n",
      "The location of the pattern is:\n",
      "Start index: 16\n",
      "End index: 19\n"
     ]
    }
   ],
   "source": [
    "# Question 16- Write a Python program to search a literals string in a string and also find the location within the original string where the pattern occurs\n",
    "# Sample text : 'The quick brown fox jumps over the lazy dog.'\n",
    "# Searched words : 'fox'\n",
    "\n",
    "\n",
    "\n",
    "import re\n",
    "\n",
    "text = 'The quick brown fox jumps over the lazy dog.'\n",
    "pattern = 'fox'\n",
    "\n",
    "match = re.search(pattern, text)\n",
    "\n",
    "if match:\n",
    "    start_index = match.start()\n",
    "    end_index = match.end()\n",
    "    print(\"The pattern '{}' was found in the text.\".format(pattern))\n",
    "    print(\"The location of the pattern is:\")\n",
    "    print(\"Start index: {}\".format(start_index))\n",
    "    print(\"End index: {}\".format(end_index))\n",
    "else:\n",
    "    print(\"The pattern '{}' was not found in the text.\".format(pattern))\n"
   ]
  },
  {
   "cell_type": "code",
   "execution_count": 23,
   "id": "e88a14ab",
   "metadata": {},
   "outputs": [
    {
     "name": "stdout",
     "output_type": "stream",
     "text": [
      "The following substrings were found:\n",
      "exercises\n",
      "exercises\n",
      "exercises\n"
     ]
    }
   ],
   "source": [
    "# Question 17- Write a Python program to find the substrings within a string.\n",
    "# Sample text : 'Python exercises, PHP exercises, C# exercises'\n",
    "# Pattern : 'exercises'.\n",
    "\n",
    "\n",
    "import re\n",
    "\n",
    "text = 'Python exercises, PHP exercises, C# exercises'\n",
    "pat = 'exercises'\n",
    "matches = re.findall(pat, text)\n",
    "\n",
    "if matches:\n",
    "    print(\"The following substrings were found:\")\n",
    "    for match in matches:\n",
    "        print(match)\n",
    "else:\n",
    "    print(\"The pattern '{}' was not found in the text.\")\n"
   ]
  },
  {
   "cell_type": "code",
   "execution_count": 30,
   "id": "4633214a",
   "metadata": {},
   "outputs": [
    {
     "name": "stdout",
     "output_type": "stream",
     "text": [
      "The substring 'o' occurs 4 times in the text:\n",
      "At position 1: 'D'\n",
      "At position 2: 'g barks s'\n",
      "At position 3: ' l'\n",
      "At position 4: 'udly at night'\n"
     ]
    }
   ],
   "source": [
    "# Question 18- Write a Python program to find the occurrence and position of the substrings within a string.\n",
    "\n",
    "\n",
    "\n",
    "text = \"Dog barks so loudly at night\"\n",
    "substring = \"o\"\n",
    "\n",
    "occurr = [(i, match) for i, match in enumerate(text.split(substr)) if match]\n",
    "\n",
    "if occurr:\n",
    "    print(f\"The substring '{substring}' occurs {len(occurr)} times in the text:\")\n",
    "    for index, match in occurr:\n",
    "        print(f\"At position {index + 1}: '{match}'\")\n",
    "else:\n",
    "    print(f\"The substring '{substr}' was not found in the text.\")"
   ]
  },
  {
   "cell_type": "code",
   "execution_count": 31,
   "id": "a466c239",
   "metadata": {},
   "outputs": [
    {
     "name": "stdout",
     "output_type": "stream",
     "text": [
      "Original date: 2024-01-09\n",
      "Formatted date: 09-01-2024\n"
     ]
    }
   ],
   "source": [
    "# Question 19- Write a Python program to convert a date of yyyy-mm-dd format to dd-mm-yyyy format.\n",
    "\n",
    "\n",
    "import datetime\n",
    "\n",
    "main_date = \"2024-01-09\"\n",
    "\n",
    "year, month, day = map(int, main_date.split(\"-\"))\n",
    "\n",
    "date_obj = datetime.datetime(year, month, day)\n",
    "\n",
    "convert = date_obj.strftime(\"%d-%m-%Y\")  \n",
    "\n",
    "print(\"Original date:\", main_date)\n",
    "print(\"Formatted date:\", convert)"
   ]
  },
  {
   "cell_type": "code",
   "execution_count": 37,
   "id": "936836ce",
   "metadata": {},
   "outputs": [
    {
     "name": "stdout",
     "output_type": "stream",
     "text": [
      "Original text: 01.12 0132.123 2.31875 145.8 3.01 27.25 0.25\n",
      "Decimal numbers with precision of 1 or 2 in a string: ['01.12', '0132', '123', '2', '31875', '145.8', '3.01', '27.25', '0.25']\n"
     ]
    }
   ],
   "source": [
    "# Question 20- Create a function in python to find all decimal numbers with a precision of 1 or 2 in a string. The use of the re.compile() method is mandatory.\n",
    "# Sample Text: \"01.12 0132.123 2.31875 145.8 3.01 27.25 0.25\"\n",
    "# Expected Output: ['01.12', '145.8', '3.01', '27.25', '0.25']\n",
    "\n",
    "\n",
    "import re\n",
    "\n",
    "def find_one_and_two_decimal_number(text):\n",
    "    pattern = re.compile(r'\\b\\d*\\.?\\d{1,2}\\b')\n",
    "    mat = pattern.findall(text)\n",
    "    return mat\n",
    "\n",
    "sample = \"01.12 0132.123 2.31875 145.8 3.01 27.25 0.25\"\n",
    "rslt = find_one_and_two_decimal_number(sample)\n",
    "\n",
    "print(\"Original text:\", sample)\n",
    "print(\"Decimal numbers with precision of 1 or 2 in a string:\", rslt)\n"
   ]
  },
  {
   "cell_type": "code",
   "execution_count": 38,
   "id": "14920de7",
   "metadata": {},
   "outputs": [
    {
     "name": "stdout",
     "output_type": "stream",
     "text": [
      "Number 1: 4 (at position 14)\n",
      "Number 2: 100.65 (at position 32)\n"
     ]
    }
   ],
   "source": [
    "# Question 21- Write a Python program to separate and print the numbers and their position of a given string.\n",
    "\n",
    "\n",
    "import re\n",
    "\n",
    "text = \"Mr Sahani has 4 cars as well as 100.65 acers land.\"\n",
    "\n",
    "num = re.findall(r\"\\d+(?:\\.\\d+)?\", text)\n",
    "\n",
    "for i, number in enumerate(num):\n",
    "  start_index = text.find(number)  \n",
    "  print(f\"Number {i + 1}: {number} (at position {start_index})\")\n"
   ]
  },
  {
   "cell_type": "code",
   "execution_count": 39,
   "id": "bbc47c5b",
   "metadata": {},
   "outputs": [
    {
     "name": "stdout",
     "output_type": "stream",
     "text": [
      "My marks in each semester are: 947, 896, 926, 524, 734, 950, 642\n",
      "Maximum numeric value from the String upon Sample Text: 950\n"
     ]
    }
   ],
   "source": [
    "# Question 22- Write a regular expression in python program to extract maximum/largest numeric value from a string.\n",
    "# Sample Text:  'My marks in each semester are: 947, 896, 926, 524, 734, 950, 642'\n",
    "# Expected Output: 950\n",
    "\n",
    "\n",
    "\n",
    "import re\n",
    "\n",
    "text = \"My marks in each semester are: 947, 896, 926, 524, 734, 950, 642\"\n",
    "numbers = re.findall(r\"\\d+\", text)\n",
    "intgs = [int(num) for num in numbers]\n",
    "\n",
    "\n",
    "max_value = max(intgs)\n",
    "\n",
    "print(text)\n",
    "print(\"Maximum numeric value from the String upon Sample Text:\", max_value)"
   ]
  },
  {
   "cell_type": "code",
   "execution_count": 40,
   "id": "778ed659",
   "metadata": {},
   "outputs": [
    {
     "name": "stdout",
     "output_type": "stream",
     "text": [
      " Regular Expression Is An Important Topic In Python\n"
     ]
    }
   ],
   "source": [
    "# Question 23- Create a function in python to insert spaces between words starting with capital letters.\n",
    "# Sample Text: “RegularExpressionIsAnImportantTopicInPython\"\n",
    "# Expected Output: Regular Expression Is An Important Topic In Python\n",
    "\n",
    "\n",
    "\n",
    "import re\n",
    "\n",
    "def insert_spaces_btn(text):\n",
    "  pattern = r\"(?<!\\b\\w)([A-Z])\" \n",
    "  return re.sub(pattern, r\" \\1\", text)\n",
    "\n",
    "\n",
    "text = \"RegularExpressionIsAnImportantTopicInPython\"\n",
    "result = insert_spaces_btn(text)\n",
    "print(result)"
   ]
  },
  {
   "cell_type": "code",
   "execution_count": 41,
   "id": "cc8032c3",
   "metadata": {},
   "outputs": [
    {
     "name": "stdout",
     "output_type": "stream",
     "text": [
      "SEQUENCE: ['The', 'Roses', 'Are', 'Red', 'White']\n"
     ]
    }
   ],
   "source": [
    "# Question 24- Python regex to find sequences of one upper case letter followed by lower case letters\n",
    "\n",
    "\n",
    "\n",
    "import re\n",
    "\n",
    "text = \"The Roses Are RedWhite.\"\n",
    "\n",
    "pattern = r\"[A-Z][a-z]+\"\n",
    "matches = re.findall(pattern, text)\n",
    "\n",
    "print(\"SEQUENCE:\", matches)\n"
   ]
  },
  {
   "cell_type": "code",
   "execution_count": 42,
   "id": "4505c921",
   "metadata": {},
   "outputs": [
    {
     "name": "stdout",
     "output_type": "stream",
     "text": [
      "Hello hello world\n"
     ]
    }
   ],
   "source": [
    "# Question 25- Write a Python program to remove continuous duplicate words from Sentence using Regular Expression.\n",
    "# Sample Text: \"Hello hello world world\"\n",
    "# Expected Output: Hello hello world\n",
    "# \n",
    "\n",
    "# In[48]:\n",
    "\n",
    "\n",
    "import re\n",
    "\n",
    "def remove_continuous(text):\n",
    "  pattern = r\"\\b(\\w+)( \\1\\b)+\"\n",
    "  remove = re.sub(pattern, r\"\\1\", text)\n",
    "  return remove\n",
    "\n",
    "text = \"Hello hello world world\"\n",
    "\n",
    "result = remove_continuous(text)\n",
    "print(result)"
   ]
  },
  {
   "cell_type": "code",
   "execution_count": 43,
   "id": "69e8751f",
   "metadata": {},
   "outputs": [
    {
     "name": "stdout",
     "output_type": "stream",
     "text": [
      " ends with an alphanumeric character is:hy123\n",
      " does not end with an alphanumeric character is:world_!\n",
      " does not end with an alphanumeric character is:Python$\n",
      " ends with an alphanumeric character is:programming all day 24/7\n"
     ]
    }
   ],
   "source": [
    "# Question 26-  Write a python program using RegEx to accept string ending with alphanumeric character.\n",
    "\n",
    "# In[54]:\n",
    "\n",
    "\n",
    "import re\n",
    "\n",
    "def validate(text):\n",
    "  pattern = r\"\\w$\" \n",
    "  return bool(re.search(pattern, text))\n",
    "\n",
    "\n",
    "test_strings = [\"hy123\", \"world_!\", \"Python$\", \"programming all day 24/7\"]\n",
    "for text in test_strings:\n",
    "  if validate(text):\n",
    "    print(f\" ends with an alphanumeric character is:{text}\")\n",
    "  else:\n",
    "    print(f\" does not end with an alphanumeric character is:{text}\")"
   ]
  },
  {
   "cell_type": "code",
   "execution_count": 44,
   "id": "c3c6eb77",
   "metadata": {},
   "outputs": [
    {
     "name": "stdout",
     "output_type": "stream",
     "text": [
      "['#Doltiwal', '#xyzabc', '#Demonetization']\n"
     ]
    }
   ],
   "source": [
    "# Question 27-Write a python program using RegEx to extract the hashtags.\n",
    "# Sample Text:  \"\"\"RT @kapil_kausik: #Doltiwal I mean #xyzabc is \"hurt\" by #Demonetization as the same has rendered USELESS <ed><U+00A0><U+00BD><ed><U+00B1><U+0089> \"acquired funds\" No wo\"\"\"\n",
    "# Expected Output: ['#Doltiwal', '#xyzabc', '#Demonetization']\n",
    "\n",
    "\n",
    "import re\n",
    "\n",
    "def extract_hash(text):\n",
    "  pattern = r\"#\\w+\"\n",
    "  matches = re.findall(pattern, text)\n",
    "  return matches\n",
    "\n",
    "s_txt= \"\"\"RT @kapil_kausik: #Doltiwal I mean #xyzabc is \"hurt\" by #Demonetization as the same has rendered USELESS <ed><U+00A0><U+00BD><ed><U+00B1><U+0089> \"acquired funds\" No wo\"\"\"\n",
    "\n",
    "hashtags = extract_hash(s_txt)\n",
    "print(hashtags)"
   ]
  },
  {
   "cell_type": "code",
   "execution_count": 45,
   "id": "36896ad6",
   "metadata": {},
   "outputs": [
    {
     "name": "stdout",
     "output_type": "stream",
     "text": [
      "@Jags123456 Bharat band on 28??<ed><ed>Those who are protesting #demonetization are all different party leaders\n"
     ]
    }
   ],
   "source": [
    "# Question 28- Write a python program using RegEx to remove <U+..> like symbols\n",
    "# Check the below sample text, there are strange symbols something of the sort <U+..> all over the place. You need to come up with a general Regex expression that will cover all such symbols.\n",
    "# Sample Text: \"@Jags123456 Bharat band on 28??<ed><U+00A0><U+00BD><ed><U+00B8><U+0082>Those who  are protesting #demonetization  are all different party leaders\"\n",
    "# Expected Output: @Jags123456 Bharat band on 28??<ed><ed>Those who  are protesting #demonetization  are all different party leaders\n",
    "\n",
    "\n",
    "import re\n",
    "\n",
    "def remove_u_plus(text):\n",
    "\n",
    "  pattern = r\"<U\\+[0-9A-F]{4}>\"\n",
    "  delete =  re.sub(pattern, \"\", text)\n",
    "  return delete\n",
    "\n",
    "text = \"@Jags123456 Bharat band on 28??<ed><U+00A0><U+00BD><ed><U+00B8><U+0082>Those who are protesting #demonetization are all different party leaders\"\n",
    "\n",
    "clean_text = remove_u_plus(text)\n",
    "print(clean_text)"
   ]
  },
  {
   "cell_type": "code",
   "execution_count": 50,
   "id": "be889bae",
   "metadata": {},
   "outputs": [
    {
     "name": "stdout",
     "output_type": "stream",
     "text": [
      "Extracted dates: ['12-09-1992', '15-12-1999']\n"
     ]
    }
   ],
   "source": [
    "# Question 29- Write a python program to extract dates from the text stored in the text file.\n",
    "# Sample Text: Ron was born on 12-09-1992 and he was admitted to school 15-12-1999.\n",
    "# Note- Store this sample text in the file and then extract dates.\n",
    "\n",
    "\n",
    "\n",
    "import re\n",
    "\n",
    "def extract_dates(filename):\n",
    "    pattern = r\"\\d{2}-\\d{2}-\\d{4}\"  # Added 'r' for a raw string\n",
    "    with open(filename) as file:\n",
    "        text = file.read()\n",
    "        dates = re.findall(pattern, text)\n",
    "\n",
    "    return dates\n",
    "\n",
    "filename = \"question29.txt\"  # Corrected variable name\n",
    "\n",
    "extracted_dates = extract_dates(filename)\n",
    "print(\"Extracted dates:\", extracted_dates)\n"
   ]
  },
  {
   "cell_type": "code",
   "execution_count": 49,
   "id": "4d1eb357",
   "metadata": {},
   "outputs": [
    {
     "name": "stdout",
     "output_type": "stream",
     "text": [
      " following example creates  ArrayList  a capacity   elements. 4 elements   added   ArrayList   ArrayList  trimmed accordingly.\n"
     ]
    }
   ],
   "source": [
    "# Question 30- Create a function in python to remove all words from a string of length between 2 and 4.\n",
    "# The use of the re.compile() method is mandatory.\n",
    "# Sample Text: \"The following example creates an ArrayList with a capacity of 50 elements. 4 elements are then added to the ArrayList and the ArrayList is trimmed accordingly.\"\n",
    "# Expected Output:  following example creates ArrayList a capacity elements. 4 elements added ArrayList ArrayList trimmed accordingly.\n",
    "\n",
    "\n",
    "\n",
    "import re\n",
    "\n",
    "def remove_2and4_words(text):\n",
    "  pattern = re.compile(r\"\\b\\w{2,4}\\b\")\n",
    "  delete = pattern.sub(\"\", text)  \n",
    "  return delete \n",
    "text = \"The following example creates an ArrayList with a capacity of 50 elements. 4 elements are then added to the ArrayList and the ArrayList is trimmed accordingly.\"\n",
    "\n",
    "result = remove_2and4_words(text)\n",
    "print(result)\n"
   ]
  },
  {
   "cell_type": "code",
   "execution_count": null,
   "id": "f08dc6d4",
   "metadata": {},
   "outputs": [],
   "source": []
  }
 ],
 "metadata": {
  "kernelspec": {
   "display_name": "Python 3 (ipykernel)",
   "language": "python",
   "name": "python3"
  },
  "language_info": {
   "codemirror_mode": {
    "name": "ipython",
    "version": 3
   },
   "file_extension": ".py",
   "mimetype": "text/x-python",
   "name": "python",
   "nbconvert_exporter": "python",
   "pygments_lexer": "ipython3",
   "version": "3.10.9"
  }
 },
 "nbformat": 4,
 "nbformat_minor": 5
}
